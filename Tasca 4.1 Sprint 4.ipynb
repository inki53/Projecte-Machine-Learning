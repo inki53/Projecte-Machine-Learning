{
 "cells": [
  {
   "cell_type": "markdown",
   "id": "485695bb",
   "metadata": {},
   "source": [
    "# Exemple 1 Consumir API"
   ]
  },
  {
   "cell_type": "markdown",
   "id": "3a4d2f62",
   "metadata": {},
   "source": [
    "**Consumint API de notícies NewsApi, importem llibreria, i configurem el Token de l'API i la URL**"
   ]
  },
  {
   "cell_type": "code",
   "execution_count": 1,
   "id": "5674e2cd",
   "metadata": {},
   "outputs": [],
   "source": [
    "import requests\n",
    "\n",
    "# Clau d'API (clau gratuïta des de #TheNewsApi.com)\n",
    "\n",
    "API_KEY = 'IZMPBHUfTraQ8Zrmv7blccMm7sVKb0JIgPFGKGZr' #TheNewsApi.com\n",
    "\n",
    "BASE_URL = 'https://api.thenewsapi.com/v1/news/top'  # Endpoint per a notícies principals"
   ]
  },
  {
   "cell_type": "markdown",
   "id": "5f40b609",
   "metadata": {},
   "source": [
    "**Configurem els paràmetres de la sol·licitud**"
   ]
  },
  {
   "cell_type": "code",
   "execution_count": 2,
   "id": "f804f4fc",
   "metadata": {},
   "outputs": [],
   "source": [
    "# Paràmetres de la sol·licitud\n",
    "params = {\n",
    "    'api_token': API_KEY,  # Clau API\n",
    "    'locale': 'es',        # Idioma/localització de les notícies \n",
    "    'categories':'sports',\n",
    "    'limit': 10             # Nombre màxim de notícies a retornar (3 en pla gratuït)\n",
    "}\n"
   ]
  },
  {
   "cell_type": "markdown",
   "id": "4b461914",
   "metadata": {},
   "source": [
    "**Fem la sol·licitud**"
   ]
  },
  {
   "cell_type": "code",
   "execution_count": 3,
   "id": "d4de2351",
   "metadata": {},
   "outputs": [
    {
     "name": "stdout",
     "output_type": "stream",
     "text": [
      "Notícies principals: \n",
      "\n",
      "- Títol: El favorito de Hansi Flick para reforzar el ataque del FC Barcelona\n",
      "  Resum: El entrenador alemán tiene en la mira un crack de cara al próximo mercado de verano.\n",
      "  Origen: fichajes.net\n",
      "  Enllaç: https://www.fichajes.net/noticias/favorito-hansi-flick-reforzar-ataque-fc-barcelona-20241204.html\n",
      "\n",
      "- Títol: Los 7 clubes que se pelean por el fichaje de Nico Williams\n",
      "  Resum: El extremo español parece tener los días contados en el Athletic Club.\n",
      "  Origen: fichajes.net\n",
      "  Enllaç: https://www.fichajes.net/noticias/7-clubes-pelean-fichaje-nico-williams-20241204.html\n",
      "\n",
      "- Títol: El club por el que quiere fichar Jeremie Frimpong en verano\n",
      "  Resum: El carrilero neerlandés está en la mira de Liverpool, Manchester City y Real Madrid.\n",
      "  Origen: fichajes.net\n",
      "  Enllaç: https://www.fichajes.net/noticias/club-quiere-fichar-jeremie-frimpong-verano-20241204.html\n",
      "\n"
     ]
    }
   ],
   "source": [
    "try:\n",
    "    response = requests.get(BASE_URL, params=params)\n",
    "    response.raise_for_status()  # Llança una excepció si hi ha un error\n",
    "    data = response.json()       # Converteix la resposta JSON a un diccionari\n",
    "     \n",
    "    # Processar i mostrar les notícies\n",
    "    print(\"Notícies principals:\",'\\n')\n",
    "    for article in data.get('data', []):  # El contingut de les notícies és al camp 'data'\n",
    "        \n",
    "        print(f\"- Títol: {article['title']}\")\n",
    "        print(f\"  Resum: {article.get('description', 'No disponible')}\")\n",
    "        print(f\"  Origen: {article.get('source', 'No disponible')}\")\n",
    "        print(f\"  Enllaç: {article['url']}\\n\")\n",
    "        \n",
    "except requests.exceptions.RequestException as e:\n",
    "    print(f\"Error en consumir l'API: {e}\")\n"
   ]
  },
  {
   "cell_type": "markdown",
   "id": "e9a597ad",
   "metadata": {},
   "source": [
    "# Exemple 2 Web Scraping Wikipedia article sobre l'UOC"
   ]
  },
  {
   "cell_type": "markdown",
   "id": "1c3ad13b",
   "metadata": {},
   "source": [
    "**Importem llibreries x webscraping**"
   ]
  },
  {
   "cell_type": "code",
   "execution_count": 4,
   "id": "ad093954",
   "metadata": {},
   "outputs": [],
   "source": [
    "import requests\n",
    "from bs4 import BeautifulSoup"
   ]
  },
  {
   "cell_type": "markdown",
   "id": "2ea74e01",
   "metadata": {},
   "source": [
    "**Escollim la pàgina a 'Scrapear'i fem la sol·licitud GET x obtenir el contingut de la pàgina**"
   ]
  },
  {
   "cell_type": "code",
   "execution_count": 5,
   "id": "bf845c03",
   "metadata": {},
   "outputs": [],
   "source": [
    "# URL de la pàgina de Wikipedia\n",
    "url = \"https://ca.wikipedia.org/wiki/Universitat_Oberta_de_Catalunya\"\n",
    "\n",
    "# Fer la sol·licitud GET per obtenir el contingut de la pàgina\n",
    "response = requests.get(url)"
   ]
  },
  {
   "cell_type": "markdown",
   "id": "267c1b1b",
   "metadata": {},
   "source": [
    "**Comprovem que la sol·licitud tingui èxit, analitzem el contingut HTML amb BeautifulSoup i presentem les seccions dels articles (etiqueta div i class \"mw-heading mw-heading2\")** "
   ]
  },
  {
   "cell_type": "code",
   "execution_count": 6,
   "id": "77eb5d0b",
   "metadata": {},
   "outputs": [
    {
     "name": "stdout",
     "output_type": "stream",
     "text": [
      "Seccions de l'article:\n",
      "- Història\n",
      "- Organització\n",
      "- Seus\n",
      "- Estudis\n",
      "- Rectors\n",
      "- Revistes acadèmiques\n",
      "- Càtedres\n",
      "- Biblioteca\n",
      "- Recerca\n",
      "- Honoris Causa\n",
      "- Referències\n",
      "- Enllaços externs\n"
     ]
    }
   ],
   "source": [
    "if response.status_code == 200:  # Verifica que la sol·licitud hagi estat exitosa\n",
    "    html_content = response.content\n",
    "\n",
    "    # Analitza el contingut HTML amb BeautifulSoup\n",
    "    soup = BeautifulSoup(html_content, \"html.parser\")\n",
    "\n",
    "    # Cerca seccions o arbre article amb classe \"mw-heading mw-heading2\"\n",
    "    print(\"Seccions de l'article:\")\n",
    "    headers = soup.find_all(\"div\",class_=\"mw-heading mw-heading2\")\n",
    "    for header in headers:\n",
    "        text_header=header.text\n",
    "        text_header=text_header.replace(\"[modifica]\",\"\").strip()\n",
    "        print(f\"- {text_header}\")\n",
    "else:\n",
    "    print(f\"Error en accedir a la pàgina. Codi d'estat: {response.status_code}\")\n"
   ]
  }
 ],
 "metadata": {
  "kernelspec": {
   "display_name": "Python 3 (ipykernel)",
   "language": "python",
   "name": "python3"
  },
  "language_info": {
   "codemirror_mode": {
    "name": "ipython",
    "version": 3
   },
   "file_extension": ".py",
   "mimetype": "text/x-python",
   "name": "python",
   "nbconvert_exporter": "python",
   "pygments_lexer": "ipython3",
   "version": "3.11.5"
  }
 },
 "nbformat": 4,
 "nbformat_minor": 5
}
