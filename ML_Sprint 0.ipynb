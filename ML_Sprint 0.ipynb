{
 "cells": [
  {
   "cell_type": "code",
   "execution_count": 13,
   "id": "d9bb8307",
   "metadata": {},
   "outputs": [
    {
     "name": "stdout",
     "output_type": "stream",
     "text": [
      "C:\\Users\\iñaki\\ML Sprints\n",
      "['.ipynb_checkpoints', 'ML_Sprint 0.ipynb']\n"
     ]
    }
   ],
   "source": [
    "import os\n",
    "\n",
    "print(os.getcwd())\n",
    "      \n",
    "print(os.listdir())\n"
   ]
  },
  {
   "cell_type": "markdown",
   "id": "0c57c4e3",
   "metadata": {},
   "source": [
    "# Primera línia"
   ]
  },
  {
   "cell_type": "markdown",
   "id": "bed12439",
   "metadata": {},
   "source": [
    "## Primer exercici"
   ]
  },
  {
   "cell_type": "markdown",
   "id": "58f20e89",
   "metadata": {},
   "source": [
    "#### Llistes"
   ]
  },
  {
   "cell_type": "markdown",
   "id": "9c6d63d8",
   "metadata": {},
   "source": [
    "* Primer element\n",
    "* Segon element\n",
    "    * Primer element del segon element llista"
   ]
  },
  {
   "cell_type": "markdown",
   "id": "11f94bfe",
   "metadata": {},
   "source": [
    "#### Canvi estil lletra"
   ]
  },
  {
   "cell_type": "markdown",
   "id": "aeecc665",
   "metadata": {},
   "source": [
    "**Negrita "
   ]
  },
  {
   "cell_type": "markdown",
   "id": "7324331d",
   "metadata": {},
   "source": [
    "*Cursiva"
   ]
  },
  {
   "cell_type": "markdown",
   "id": "c0f2b13c",
   "metadata": {},
   "source": [
    "####  Insertar Imatge"
   ]
  },
  {
   "cell_type": "markdown",
   "id": "2f8a6f5b",
   "metadata": {},
   "source": [
    "![Image](imatge.png)"
   ]
  }
 ],
 "metadata": {
  "kernelspec": {
   "display_name": "Python 3 (ipykernel)",
   "language": "python",
   "name": "python3"
  },
  "language_info": {
   "codemirror_mode": {
    "name": "ipython",
    "version": 3
   },
   "file_extension": ".py",
   "mimetype": "text/x-python",
   "name": "python",
   "nbconvert_exporter": "python",
   "pygments_lexer": "ipython3",
   "version": "3.11.5"
  }
 },
 "nbformat": 4,
 "nbformat_minor": 5
}
